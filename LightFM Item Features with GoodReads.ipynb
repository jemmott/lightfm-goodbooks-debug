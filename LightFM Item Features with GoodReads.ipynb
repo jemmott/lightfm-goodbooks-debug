{
 "cells": [
  {
   "cell_type": "markdown",
   "metadata": {},
   "source": [
    "Colin Jemmott for Seismic, Aug 2020\n",
    "\n",
    "Working with the hybrid recommender LightFM, I have been finding that every category of item features I try gives worse performance than no item features at all. This notebook is an attempt to reproduce that with a public dataset so I can ask for help.\n",
    "\n",
    "Code was thrown together quickly, and is kinda rough.  Feel free to ask me if you have questions.  cjemmott@seismic.com"
   ]
  },
  {
   "cell_type": "code",
   "execution_count": 77,
   "metadata": {},
   "outputs": [],
   "source": [
    "import numpy as np\n",
    "import pandas as pd\n",
    "from lightfm.data import Dataset\n",
    "from lightfm import LightFM\n",
    "from lightfm import evaluation\n",
    "from sklearn.model_selection import train_test_split"
   ]
  },
  {
   "cell_type": "code",
   "execution_count": 101,
   "metadata": {},
   "outputs": [],
   "source": [
    "randomSeed = 12"
   ]
  },
  {
   "cell_type": "markdown",
   "metadata": {},
   "source": [
    "## Data pipeline"
   ]
  },
  {
   "cell_type": "code",
   "execution_count": 76,
   "metadata": {},
   "outputs": [],
   "source": [
    "# Load\n",
    "books = pd.read_csv(\"books.csv\").set_index(\"goodreads_book_id\")\n",
    "ratings = pd.read_csv(\"ratings.csv\").set_index(\"book_id\")\n",
    "# join\n",
    "df = ratings.join(books, how=\"inner\")\n",
    "# Trim (for speed)\n",
    "df = df[df['user_id'] < 5000]"
   ]
  },
  {
   "cell_type": "code",
   "execution_count": 73,
   "metadata": {},
   "outputs": [
    {
     "data": {
      "text/plain": [
       "[(27, ['J.K. Rowling', 'Mary GrandPré']),\n",
       " (21, ['J.K. Rowling', 'Mary GrandPré']),\n",
       " (2, ['J.K. Rowling', 'Mary GrandPré']),\n",
       " (18, ['J.K. Rowling', 'Mary GrandPré', 'Rufus Beck']),\n",
       " (24, ['J.K. Rowling', 'Mary GrandPré']),\n",
       " (3275, ['J.K. Rowling', 'Mary GrandPré']),\n",
       " (3753, ['J.K. Rowling']),\n",
       " (54, ['Douglas Adams']),\n",
       " (337, ['Douglas Adams']),\n",
       " (374, ['Bill Bryson'])]"
      ]
     },
     "execution_count": 73,
     "metadata": {},
     "output_type": "execute_result"
    }
   ],
   "source": [
    "# Make the item feature\n",
    "\n",
    "authorDf = df[['authors', 'book_id']].drop_duplicates()\n",
    "\n",
    "itemFeatureAssignments = [] # item, feature tuples\n",
    "itemFeatureList = [] # list of unique item feature values\n",
    "for ii in range(len(authorDf)):\n",
    "    itemFeatureAssignments.append((authorDf['book_id'].iloc[ii], \n",
    "                          authorDf['authors'].iloc[ii].split(\", \")))\n",
    "    itemFeatureList.extend(authorDf['authors'].iloc[ii].split(\", \"))\n",
    "\n",
    "itemFeatureList = set(itemFeatureList)\n",
    "\n",
    "itemFeatureAssignments[:10]"
   ]
  },
  {
   "cell_type": "code",
   "execution_count": 74,
   "metadata": {},
   "outputs": [],
   "source": [
    "# Make LightFM dataset\n",
    "dataset = Dataset()\n",
    "dataset.fit(users = df['user_id'],\n",
    "            items = df['book_id'],\n",
    "            item_features = itemFeatureList,\n",
    "           )\n",
    "item_features = dataset.build_item_features(itemFeatureAssignments)"
   ]
  },
  {
   "cell_type": "markdown",
   "metadata": {},
   "source": [
    "## Helper function to calculate performance"
   ]
  },
  {
   "cell_type": "code",
   "execution_count": 144,
   "metadata": {},
   "outputs": [],
   "source": [
    "# Define performane metrics\n",
    "def getMetrics(model, train, test, item_features, fullMetrics = False):\n",
    "    # Details: https://making.lyst.com/lightfm/docs/lightfm.evaluation.html\n",
    "    metrics = {}\n",
    "    \n",
    "    # run with no item or user features, which is CF\n",
    "    model_cf = LightFM(loss='warp', random_state = randomSeed)\n",
    "    model_cf.fit(train, epochs=numEpochs) \n",
    "\n",
    "    # MRR\n",
    "    test_mrr = evaluation.reciprocal_rank(model, \n",
    "                                          test, \n",
    "                                          train_interactions=train,\n",
    "                                          item_features=item_features).mean()\n",
    "    #print('MRR: {:.3f}'.format(test_mrr))\n",
    "    # Compare to CF\n",
    "    mrr_cf = evaluation.reciprocal_rank(model_cf, test, train_interactions=train).mean()\n",
    "    metrics[\"MRR Improvement\"] = 100*(test_mrr/mrr_cf-1)\n",
    "\n",
    "    \"\"\"\n",
    "    # Area under ROC\n",
    "    test_auc = evaluation.auc_score(model, \n",
    "                                          test, \n",
    "                                          train_interactions=train,\n",
    "                                          item_features=item_features).mean()\n",
    "    #print('AUC: {:.3f}'.format(test_auc))\n",
    "    auc_cf = evaluation.auc_score(model_cf, test, train_interactions=train).mean()\n",
    "    metrics[\"AUC Improvement\"] = 100*(test_auc/auc_cf-1)\n",
    "\n",
    "\n",
    "    # Recall at k\n",
    "    k = 5\n",
    "    test_rak = evaluation.recall_at_k(model, \n",
    "                                      test, \n",
    "                                      train_interactions=train,\n",
    "                                      item_features=item_features, \n",
    "                                      k=k).mean()\n",
    "    rak_cf = evaluation.recall_at_k(model_cf, test, train_interactions=train, k=k).mean()\n",
    "    metrics['R@{} Improvement'.format(k)] = 100*(test_rak/rak_cf-1)\n",
    "    \"\"\"  \n",
    "    return metrics"
   ]
  },
  {
   "cell_type": "markdown",
   "metadata": {},
   "source": [
    "## Train and test"
   ]
  },
  {
   "cell_type": "code",
   "execution_count": 145,
   "metadata": {},
   "outputs": [],
   "source": [
    "trainDf, testDf = train_test_split(df, train_size=0.8)\n",
    "train, _ = dataset.build_interactions(list(zip(trainDf['user_id'], trainDf['book_id'])))\n",
    "test, _ = dataset.build_interactions(list(zip(testDf['user_id'], testDf['book_id'])))"
   ]
  },
  {
   "cell_type": "code",
   "execution_count": 148,
   "metadata": {},
   "outputs": [
    {
     "data": {
      "text/plain": [
       "-11.423325538635254"
      ]
     },
     "execution_count": 148,
     "metadata": {},
     "output_type": "execute_result"
    }
   ],
   "source": [
    "numEpochs = 1\n",
    "\n",
    "model = LightFM(loss='warp', \n",
    "          learning_rate=0.05,\n",
    "          random_state = randomSeed)\n",
    "model.fit(train, \n",
    "          epochs=numEpochs, \n",
    "          item_features=item_features\n",
    "         ) \n",
    "mrrActual = getMetrics(model, train, test, item_features)['MRR Improvement']\n",
    "mrrActual"
   ]
  },
  {
   "cell_type": "markdown",
   "metadata": {},
   "source": [
    "## Shuffle authors\n",
    "\n",
    "the idea here is to see if randomly assigned labels are actually _better_.\n",
    "\n",
    "I did it before making the list - I guess I could do the shuffle the other way, but I don't know if it would matter?"
   ]
  },
  {
   "cell_type": "code",
   "execution_count": 160,
   "metadata": {},
   "outputs": [],
   "source": [
    "mrrResults = []\n",
    "for _ in range(100):\n",
    "    shuffleDf = authorDf\n",
    "    shuffleDf['authors'] = np.random.permutation(shiffleDf['authors'])\n",
    "\n",
    "    # Make the item feature\n",
    "    itemFeatureAssignments = [] # item, feature tuples\n",
    "    for ii in range(len(shuffleDf)):\n",
    "        itemFeatureAssignments.append((shuffleDf['book_id'].iloc[ii], \n",
    "                              shuffleDf['authors'].iloc[ii].split(\", \")))\n",
    "\n",
    "    item_features = dataset.build_item_features(itemFeatureAssignments)\n",
    "    \n",
    "    model = LightFM(loss='warp', \n",
    "              learning_rate=0.05,\n",
    "              random_state = randomSeed)\n",
    "    model.fit(train, \n",
    "              epochs=numEpochs, \n",
    "              item_features=item_features\n",
    "             ) \n",
    "    mrrResults.append(getMetrics(model, train, test, item_features)['MRR Improvement'])"
   ]
  },
  {
   "cell_type": "code",
   "execution_count": 162,
   "metadata": {},
   "outputs": [
    {
     "data": {
      "text/plain": [
       "[<matplotlib.lines.Line2D at 0x1ac258235c0>]"
      ]
     },
     "execution_count": 162,
     "metadata": {},
     "output_type": "execute_result"
    },
    {
     "data": {
      "image/png": "[encoded data removed]",
      "text/plain": [
       "<Figure size 432x288 with 1 Axes>"
      ]
     },
     "metadata": {
      "needs_background": "light"
     },
     "output_type": "display_data"
    }
   ],
   "source": [
    "import matplotlib.pyplot as plt\n",
    "_ = plt.hist(mrrResults)\n",
    "plt.plot([mrrActual,mrrActual],[0,25], c='r')"
   ]
  },
  {
   "cell_type": "markdown",
   "metadata": {},
   "source": [
    "## Add the identity matrix in to be safe\n",
    "\n",
    "Added `book_id` to "
   ]
  },
  {
   "cell_type": "code",
   "execution_count": 173,
   "metadata": {},
   "outputs": [
    {
     "data": {
      "text/plain": [
       "-5.40614128112793"
      ]
     },
     "execution_count": 173,
     "metadata": {},
     "output_type": "execute_result"
    }
   ],
   "source": [
    "# Make the item feature\n",
    "\n",
    "authorDf = df[['authors', 'book_id']].drop_duplicates()\n",
    "\n",
    "itemFeatureAssignments = [] # item, feature tuples\n",
    "for ii in range(len(authorDf)):\n",
    "    itemFeatureAssignments.append((authorDf['book_id'].iloc[ii], \n",
    "                          authorDf['authors'].iloc[ii].split(\", \") + [authorDf['book_id'].iloc[ii]]))\n",
    "\n",
    "model = LightFM(loss='warp', \n",
    "          learning_rate=0.05,\n",
    "          random_state = randomSeed)\n",
    "model.fit(train, \n",
    "          epochs=numEpochs, \n",
    "          item_features=item_features\n",
    "         ) \n",
    "mrrActual = getMetrics(model, train, test, item_features)['MRR Improvement']\n",
    "mrrActual"
   ]
  },
  {
   "cell_type": "code",
   "execution_count": 170,
   "metadata": {},
   "outputs": [],
   "source": [
    "mrrResults = []\n",
    "for _ in range(100):\n",
    "    shuffleDf = authorDf\n",
    "    shuffleDf['authors'] = np.random.permutation(shiffleDf['authors'])\n",
    "\n",
    "    # Make the item feature\n",
    "    itemFeatureAssignments = [] # item, feature tuples\n",
    "    for ii in range(len(shuffleDf)):\n",
    "        itemFeatureAssignments.append((shuffleDf['book_id'].iloc[ii], \n",
    "                              shuffleDf['authors'].iloc[ii].split(\", \") + [shuffleDf['book_id'].iloc[ii]]))\n",
    "\n",
    "    item_features = dataset.build_item_features(itemFeatureAssignments)\n",
    "    \n",
    "    model = LightFM(loss='warp', \n",
    "              learning_rate=0.05,\n",
    "              random_state = randomSeed)\n",
    "    model.fit(train, \n",
    "              epochs=numEpochs, \n",
    "              item_features=item_features\n",
    "             ) \n",
    "    mrrResults.append(getMetrics(model, train, test, item_features)['MRR Improvement'])"
   ]
  },
  {
   "cell_type": "code",
   "execution_count": 174,
   "metadata": {},
   "outputs": [
    {
     "data": {
      "text/plain": [
       "[<matplotlib.lines.Line2D at 0x1ac2590fcc0>]"
      ]
     },
     "execution_count": 174,
     "metadata": {},
     "output_type": "execute_result"
    },
    {
     "data": {
      "image/png": "[encoded data removed]",
      "text/plain": [
       "<Figure size 432x288 with 1 Axes>"
      ]
     },
     "metadata": {
      "needs_background": "light"
     },
     "output_type": "display_data"
    }
   ],
   "source": [
    "import matplotlib.pyplot as plt\n",
    "_ = plt.hist(mrrResults)\n",
    "plt.plot([mrrActual,mrrActual],[0,25], c='r')"
   ]
  },
  {
   "cell_type": "code",
   "execution_count": 169,
   "metadata": {},
   "outputs": [
    {
     "data": {
      "text/plain": [
       "641"
      ]
     },
     "execution_count": 169,
     "metadata": {},
     "output_type": "execute_result"
    }
   ],
   "source": []
  },
  {
   "cell_type": "code",
   "execution_count": null,
   "metadata": {},
   "outputs": [],
   "source": []
  }
 ],
 "metadata": {
  "kernelspec": {
   "display_name": "Python 3",
   "language": "python",
   "name": "python3"
  },
  "language_info": {
   "codemirror_mode": {
    "name": "ipython",
    "version": 3
   },
   "file_extension": ".py",
   "mimetype": "text/x-python",
   "name": "python",
   "nbconvert_exporter": "python",
   "pygments_lexer": "ipython3",
   "version": "3.7.3"
  }
 },
 "nbformat": 4,
 "nbformat_minor": 2
}
